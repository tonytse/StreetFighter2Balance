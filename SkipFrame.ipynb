{
 "cells": [
  {
   "cell_type": "code",
   "execution_count": 1,
   "id": "29290100-5ae8-40b2-ae89-4c1bf111329f",
   "metadata": {},
   "outputs": [],
   "source": [
    "import StreetFighter as sf"
   ]
  },
  {
   "cell_type": "code",
   "execution_count": 2,
   "id": "e7d66557-791d-4c1a-8a7c-e7fccc799170",
   "metadata": {},
   "outputs": [
    {
     "name": "stdout",
     "output_type": "stream",
     "text": [
      "Imported 0 games\n"
     ]
    }
   ],
   "source": [
    "!python3 -m retro.import ./roms # Run this from the roms folder, or where you have your game roms "
   ]
  },
  {
   "cell_type": "code",
   "execution_count": 3,
   "id": "bb642790-7ade-4c58-8e25-4237fa9d389c",
   "metadata": {},
   "outputs": [],
   "source": [
    "import numpy as np\n",
    "import json"
   ]
  },
  {
   "cell_type": "code",
   "execution_count": 4,
   "id": "de3d81f5-9841-4608-8919-bff2f9d1e081",
   "metadata": {},
   "outputs": [],
   "source": [
    "# stable baseline\n",
    "from sb3_contrib import TRPO"
   ]
  },
  {
   "cell_type": "code",
   "execution_count": 12,
   "id": "ec8b09e0-db2b-453b-b37c-f962ee3b6907",
   "metadata": {},
   "outputs": [],
   "source": [
    "kLogDir = './logs_SkipFrame'"
   ]
  },
  {
   "cell_type": "code",
   "execution_count": 13,
   "id": "e93e29c3-33ce-4f38-affe-a689c85c953f",
   "metadata": {},
   "outputs": [],
   "source": [
    "kLearnTimesteps = 2_000\n"
   ]
  },
  {
   "cell_type": "code",
   "execution_count": 14,
   "id": "600b0a4a-fa7c-4ac0-bec2-094505ddc6d3",
   "metadata": {},
   "outputs": [],
   "source": [
    "def test_skipframe( skip ):\n",
    "\n",
    "    model_params = None\n",
    "    with open('TRPO.json') as f:   \n",
    "        model_params = json.load(f)\n",
    "    env = sf.CreateEnv( 'L4_Ryu_Guile', 1, kLogDir, skip )\n",
    "    model = TRPO(\"MlpPolicy\", env, verbose=0, tensorboard_log=kLogDir, **model_params )\n",
    "\n",
    "    model.set_env(env)\n",
    "    model.learn(total_timesteps=kLearnTimesteps, tb_log_name=f'logs_SkipFrame_{skip}')\n",
    "    env.close()\n",
    "    model = None"
   ]
  },
  {
   "cell_type": "code",
   "execution_count": 15,
   "id": "07849be8-3249-4473-810b-97293203d449",
   "metadata": {},
   "outputs": [],
   "source": [
    "test_skipframe(4)\n",
    "test_skipframe(6)\n",
    "test_skipframe(8)\n",
    "test_skipframe(10)\n",
    "test_skipframe(12)\n"
   ]
  },
  {
   "cell_type": "code",
   "execution_count": null,
   "id": "5c838a21-4ba1-4bbf-b2b7-76e3890c24e9",
   "metadata": {},
   "outputs": [],
   "source": []
  }
 ],
 "metadata": {
  "kernelspec": {
   "display_name": "Python 3 (ipykernel)",
   "language": "python",
   "name": "python3"
  },
  "language_info": {
   "codemirror_mode": {
    "name": "ipython",
    "version": 3
   },
   "file_extension": ".py",
   "mimetype": "text/x-python",
   "name": "python",
   "nbconvert_exporter": "python",
   "pygments_lexer": "ipython3",
   "version": "3.8.10"
  }
 },
 "nbformat": 4,
 "nbformat_minor": 5
}
