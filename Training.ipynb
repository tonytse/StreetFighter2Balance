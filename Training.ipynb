{
 "cells": [
  {
   "cell_type": "code",
   "execution_count": 1,
   "id": "29290100-5ae8-40b2-ae89-4c1bf111329f",
   "metadata": {},
   "outputs": [],
   "source": [
    "import StreetFighter as sf"
   ]
  },
  {
   "cell_type": "code",
   "execution_count": 2,
   "id": "e7d66557-791d-4c1a-8a7c-e7fccc799170",
   "metadata": {},
   "outputs": [
    {
     "name": "stdout",
     "output_type": "stream",
     "text": [
      "Imported 0 games\n"
     ]
    }
   ],
   "source": [
    "!python3 -m retro.import ./roms "
   ]
  },
  {
   "cell_type": "code",
   "execution_count": 3,
   "id": "bb642790-7ade-4c58-8e25-4237fa9d389c",
   "metadata": {},
   "outputs": [],
   "source": [
    "import numpy as np\n",
    "import math\n",
    "import csv\n",
    "import json\n"
   ]
  },
  {
   "cell_type": "code",
   "execution_count": 4,
   "id": "de3d81f5-9841-4608-8919-bff2f9d1e081",
   "metadata": {},
   "outputs": [],
   "source": [
    "# stable baseline\n",
    "from sb3_contrib import TRPO"
   ]
  },
  {
   "cell_type": "code",
   "execution_count": null,
   "id": "ec8b09e0-db2b-453b-b37c-f962ee3b6907",
   "metadata": {},
   "outputs": [],
   "source": []
  },
  {
   "cell_type": "code",
   "execution_count": 5,
   "id": "61660211-dd63-4a5c-93a1-8fd4869d9874",
   "metadata": {},
   "outputs": [
    {
     "data": {
      "text/plain": [
       "{'batch_size': 32,\n",
       " 'n_steps': 512,\n",
       " 'gamma': 0.9987094218655732,\n",
       " 'learning_rate': 0.00018449573010701322,\n",
       " 'gae_lambda': 0.8477315621018158,\n",
       " 'n_critic_updates': 5,\n",
       " 'cg_max_steps': 5,\n",
       " 'target_kl': 0.1}"
      ]
     },
     "execution_count": 5,
     "metadata": {},
     "output_type": "execute_result"
    }
   ],
   "source": [
    "model_params = None\n",
    "with open('TRPO.json') as f:   \n",
    "    model_params = json.load(f)\n",
    "model_params    "
   ]
  },
  {
   "cell_type": "code",
   "execution_count": null,
   "id": "013bf73d-4fd5-4dda-bb9b-19ba1b288f31",
   "metadata": {},
   "outputs": [],
   "source": []
  },
  {
   "cell_type": "code",
   "execution_count": 6,
   "id": "e93e29c3-33ce-4f38-affe-a689c85c953f",
   "metadata": {},
   "outputs": [],
   "source": [
    "kLearnTimesteps = 50_000\n",
    "kIteration = 5"
   ]
  },
  {
   "cell_type": "code",
   "execution_count": 8,
   "id": "600b0a4a-fa7c-4ac0-bec2-094505ddc6d3",
   "metadata": {},
   "outputs": [
    {
     "name": "stderr",
     "output_type": "stream",
     "text": [
      "2023-02-10 16:50:51.277294: I tensorflow/core/platform/cpu_feature_guard.cc:182] This TensorFlow binary is optimized with oneAPI Deep Neural Network Library (oneDNN) to use the following CPU instructions in performance-critical operations:  AVX2 AVX_VNNI FMA\n",
      "To enable them in other operations, rebuild TensorFlow with the appropriate compiler flags.\n",
      "2023-02-10 16:50:51.463871: I tensorflow/core/util/port.cc:110] oneDNN custom operations are on. You may see slightly different numerical results due to floating-point round-off errors from different computation orders. To turn them off, set the environment variable `TF_ENABLE_ONEDNN_OPTS=0`.\n",
      "2023-02-10 16:50:51.589484: E tensorflow/tsl/lib/monitoring/collection_registry.cc:81] Cannot register 2 metrics with the same name: /tensorflow/core/bfc_allocator_delay\n",
      "/home/tony/.local/lib/python3.8/site-packages/stable_baselines3/common/save_util.py:278: UserWarning: Path 'model' does not exist. Will create it.\n",
      "  warnings.warn(f\"Path '{path.parent}' does not exist. Will create it.\")\n"
     ]
    },
    {
     "name": "stdout",
     "output_type": "stream",
     "text": [
      "Done -> Ryu\n",
      "Done -> Ken\n",
      "Done -> EHonda\n",
      "Done -> ChunLi\n",
      "Done -> Blanka\n",
      "Done -> Zangief\n",
      "Done -> Guile\n",
      "Done -> Dhalsim\n",
      "Done -> Balrog\n",
      "Done -> Vega\n",
      "Done -> Sagat\n",
      "Done -> MBison\n"
     ]
    }
   ],
   "source": [
    "# Loop for each characters\n",
    "for c in sf.kCharacters:\n",
    "    logDir = f'./log_{c}/'\n",
    "    model = None\n",
    "    \n",
    "    # Loop for n iteration\n",
    "    for i in range(kIteration):\n",
    "\n",
    "        # vs other character\n",
    "        for opponent in sf.kCharacters:\n",
    "            if c == opponent:\n",
    "                continue\n",
    "\n",
    "            # Set the state name\n",
    "            state = f'L4_{c}_{opponent}'\n",
    "            \n",
    "            # create environment\n",
    "            env = sf.CreateEnv( state, 1, logDir, 6 )\n",
    "            \n",
    "            # create model\n",
    "            if model is None:\n",
    "                model = TRPO(\"MlpPolicy\", env, verbose=0, tensorboard_log=logDir, tb_log_name=f'{c}_{opponent}, **model_params )\n",
    "\n",
    "            # set environment\n",
    "            model.set_env(env)\n",
    "            model.learn(total_timesteps=kLearnTimesteps)\n",
    "            env.close()\n",
    "    # save the model\n",
    "    model.save( f'model/{c}.zip')\n",
    "    print( f'Done -> {c}')    "
   ]
  },
  {
   "cell_type": "code",
   "execution_count": null,
   "id": "07849be8-3249-4473-810b-97293203d449",
   "metadata": {},
   "outputs": [],
   "source": []
  }
 ],
 "metadata": {
  "kernelspec": {
   "display_name": "Python 3 (ipykernel)",
   "language": "python",
   "name": "python3"
  },
  "language_info": {
   "codemirror_mode": {
    "name": "ipython",
    "version": 3
   },
   "file_extension": ".py",
   "mimetype": "text/x-python",
   "name": "python",
   "nbconvert_exporter": "python",
   "pygments_lexer": "ipython3",
   "version": "3.8.10"
  }
 },
 "nbformat": 4,
 "nbformat_minor": 5
}
