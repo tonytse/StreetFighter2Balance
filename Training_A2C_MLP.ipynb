{
 "cells": [
  {
   "cell_type": "code",
   "execution_count": null,
   "id": "29290100-5ae8-40b2-ae89-4c1bf111329f",
   "metadata": {},
   "outputs": [],
   "source": [
    "#import package\n",
    "import retro\n",
    "import numpy as np\n",
    "import cv2\n",
    "import os\n",
    "import time\n",
    "\n",
    "#gym\n",
    "import gym\n",
    "from gym import Env\n",
    "from gym.spaces import MultiBinary, Box\n",
    "\n",
    "# stable baseline\n",
    "from stable_baselines3 import A2C\n",
    "from stable_baselines3 import PPO\n",
    "from stable_baselines3.common.evaluation import evaluate_policy\n",
    "from stable_baselines3.common.vec_env import DummyVecEnv, VecFrameStack\n",
    "from stable_baselines3.common.monitor import Monitor"
   ]
  },
  {
   "cell_type": "code",
   "execution_count": null,
   "id": "16605d3d-7f70-4814-a527-a2f8935bb8de",
   "metadata": {},
   "outputs": [],
   "source": [
    "kModelName = 'model/Ryu'\n",
    "kLogDir = './logs_TRPO_CNNvsMPL/logs_TRPO_MLP_OP'"
   ]
  },
  {
   "cell_type": "code",
   "execution_count": 3,
   "id": "ea392630-33e8-4844-8f90-1ad795004039",
   "metadata": {},
   "outputs": [
    {
     "name": "stdout",
     "output_type": "stream",
     "text": [
      "Imported 0 games\n"
     ]
    }
   ],
   "source": [
    "!python3 -m retro.import ./roms # Run this from the roms folder, or where you have your game roms "
   ]
  },
  {
   "cell_type": "code",
   "execution_count": null,
   "id": "f42e0cb4-d770-4493-8a72-40e879243f87",
   "metadata": {},
   "outputs": [],
   "source": []
  },
  {
   "cell_type": "code",
   "execution_count": 4,
   "id": "f03edb27-ea8c-41da-8444-fef7ec7bc8d4",
   "metadata": {},
   "outputs": [],
   "source": [
    "#class for StreetFighter environment\n",
    "class StreetFighter(Env):\n",
    "    def __init__(self, state):\n",
    "        super().__init__()\n",
    "        \n",
    "        self.observation_space = Box(low=0, high=255, shape=(100,100,1), dtype=np.uint8)\n",
    "        self.action_space = MultiBinary(12)\n",
    "        self.game = retro.make(game='StreetFighterIISpecialChampionEdition-Genesis', use_restricted_actions=retro.Actions.FILTERED, state=state)\n",
    "                    \n",
    "    def step(self, action):\n",
    "        obs, reward, done, info = self.game.step(action)\n",
    "        obs = self.preprocess(obs)\n",
    "\n",
    "        reward = 0\n",
    "        \n",
    "        if self.combo_count > 0:\n",
    "            self.combo_count -= 0.02\n",
    "\n",
    "        if self.enemy_combo_count > 0:\n",
    "            self.enemy_combo_count -= 0.02        \n",
    "        \n",
    "        # reward using health\n",
    "        # reward = (self.enemy_health - info['enemy_health'])*2 + (info['health'] - self.health)\n",
    "        if done:\n",
    "            \n",
    "            if info['matches_won'] == 1:\n",
    "                reward += 50\n",
    "            elif info['enemy_matches_won'] == 1:\n",
    "                reward -= 50\n",
    "            \n",
    "        else:\n",
    "            enemy_damage = self.enemy_health - info['enemy_health']\n",
    "            damage = self.health - info['health']\n",
    "            \n",
    "            if enemy_damage > 0 and damage > 0: \n",
    "                # double hit\n",
    "                reward += enemy_damage - damage\n",
    "            elif enemy_damage > 0:\n",
    "                reward += enemy_damage + self.combo_count * 8\n",
    "                self.combo_count += 1\n",
    "                self.enemy_combo_count = 0\n",
    "            elif damage > 0: \n",
    "                reward -= damage + self.enemy_combo_count * 8\n",
    "                self.enemy_combo_count += 1\n",
    "                self.combo_count = 0\n",
    "            \n",
    "        self.health = info['health']\n",
    "        self.enemy_health = info['enemy_health']\n",
    "        \n",
    "        return obs, reward, done, info\n",
    "\n",
    "    def render(self, *args, **kwargs): \n",
    "        self.game.render()\n",
    "\n",
    "\n",
    "    def reset(self):\n",
    "        self.previous_frame = np.zeros(self.game.observation_space.shape)\n",
    "\n",
    "        # Frame delta\n",
    "        obs = self.game.reset()\n",
    "        obs = self.preprocess(obs)\n",
    "        self.previous_frame = obs\n",
    "\n",
    "        # Initial variables\n",
    "        self.health = 176\n",
    "        self.enemy_health = 176\n",
    "        self.combo_count = 0\n",
    "        self.enemy_combo_count = 0\n",
    "        return obs\n",
    "\n",
    "    def preprocess(self, observation): \n",
    "        # process the input image\n",
    "        gray = cv2.cvtColor(observation, cv2.COLOR_BGR2GRAY)\n",
    "        resize = cv2.resize(gray, (100,100), interpolation=cv2.INTER_AREA)\n",
    "        state = np.reshape(resize, (100,100, 1))\n",
    "        return state\n",
    "\n",
    "    def close(self): \n",
    "        self.game.close()"
   ]
  },
  {
   "cell_type": "code",
   "execution_count": 5,
   "id": "b1e57b23-33ce-4733-9caa-02454fb81adc",
   "metadata": {},
   "outputs": [],
   "source": [
    "from stable_baselines3.common.callbacks import BaseCallback\n",
    "class TensorboardCallback(BaseCallback):\n",
    "    \"\"\"\n",
    "    Custom callback for plotting additional values in tensorboard.\n",
    "    \"\"\"\n",
    "\n",
    "    def __init__(self, verbose=0):\n",
    "        super().__init__(verbose)\n",
    "\n",
    "    def _on_step(self) -> bool:\n",
    "        # Log scalar value (here a random variable)\n",
    "        value = np.random.random()\n",
    "        self.logger.record(\"random_value\", value)\n",
    "        return True\n",
    "\n"
   ]
  },
  {
   "cell_type": "code",
   "execution_count": 68,
   "id": "39e28399-85b3-4184-ab81-e1ef07aab1d6",
   "metadata": {},
   "outputs": [],
   "source": [
    "kCharacters  = ['Balrog', 'Blanka', 'ChunLi', 'Dhalsim', 'EHonda', 'Guile', 'Ken', 'MBison', 'Ryu', 'Sagat', 'Vega', 'Zangief' ]\n",
    "\n",
    "model = None\n",
    "i = 0\n",
    "for opponent in kCharacters:\n",
    "    state = f'L4_Ryu_{opponent}'\n",
    "    \n",
    "    env = StreetFighter(state)\n",
    "    env = Monitor(env, kLogDir)\n",
    "    env = DummyVecEnv([lambda: env])\n",
    "    env = VecFrameStack(env, 4, channels_order='last')\n",
    "\n",
    "    #model = PPO('CnnPolicy', env, tensorboard_log=kLogDir, verbose=1 )\n",
    "    #model.learn(total_timesteps=50000)\n",
    "    #model = A2C('CnnPolicy', \"CartPole-v1\", env, n_steps=2048, device = 'cuda', tensorboard_log=kLogDir, verbose=1)\n",
    "    #model.learn(total_timesteps=50000,tb_log_name=\"first_run\" )\n",
    "    \n",
    "    if model is None:\n",
    "        model = A2C(\"MlpPolicy\", env, verbose=0, tensorboard_log=kLogDir )\n",
    "        \n",
    "    model.set_env(env) \n",
    "    model.learn(total_timesteps=20_000)\n",
    "    model.save( f'{kModelName}_{i}.zip')\n",
    "    i=i+1\n",
    "    \n",
    "    #env = VecFrameStack(env, 4, channels_order='last')    \n",
    "    #env = DummyVecEnv([lambda: env])\n",
    "    #model.set_env(env)\n",
    "\n",
    "    #model.learn(total_timesteps=50000, tb_log_name=\"second_run\")\n",
    "    #model.save( f'{kModelName}_{i}.zip')\n",
    "    #i=i+1\n",
    "    \"\"\"\n",
    "    model.learn(total_timesteps=100000)\n",
    "    model.save( f'{kModelName}_{i}.zip')\n",
    "    i=i+1\n",
    "    model.learn(total_timesteps=100000)\n",
    "    model.save( f'{kModelName}_{i}.zip')\n",
    "    i=i+1\n",
    "    model.learn(total_timesteps=100000)\n",
    "    model.save( f'{kModelName}_{i}.zip')\n",
    "    i=i+1\n",
    "    \"\"\"\n",
    "    env.close()\n"
   ]
  },
  {
   "cell_type": "code",
   "execution_count": 67,
   "id": "e82d1594-b0ba-4153-88fe-d3121eda213a",
   "metadata": {},
   "outputs": [],
   "source": [
    "env.close()"
   ]
  },
  {
   "cell_type": "code",
   "execution_count": null,
   "id": "0b93a7c5-e4d3-45ff-b778-6c8e0b300091",
   "metadata": {},
   "outputs": [],
   "source": []
  },
  {
   "cell_type": "code",
   "execution_count": 6,
   "id": "1ae6fef0-8549-4cbb-914f-24715e257206",
   "metadata": {},
   "outputs": [
    {
     "name": "stdout",
     "output_type": "stream",
     "text": [
      "Reward: [40.]\n",
      "Reward: [7.]\n",
      "Reward: [46.]\n",
      "Reward: [-24.]\n",
      "Reward: [-24.]\n",
      "Reward: [-33.]\n",
      "Reward: [12.]\n",
      "Reward: [-11.]\n",
      "Reward: [25.]\n",
      "Reward: [26.]\n",
      "Reward: [18.]\n",
      "Reward: [3.]\n",
      "Reward: [50.]\n",
      "Total Reward for episode [135.] is 0\n"
     ]
    }
   ],
   "source": [
    "env = StreetFighter('L4_Ryu_Guile')\n",
    "env = DummyVecEnv([lambda: env])\n",
    "env = VecFrameStack(env, 4, channels_order='last')\n",
    "model = A2C.load('Ryu_A2C_MLP_1.zip')\n",
    "model.set_env(env)\n",
    "for episode in range(1): \n",
    "    obs = env.reset()\n",
    "    done = False\n",
    "    total_reward = 0\n",
    "    while not done: \n",
    "        action, _ = model.predict(obs)\n",
    "        obs, reward, done, info = env.step(action)\n",
    "        env.render()\n",
    "        time.sleep(0.001)\n",
    "        if reward != 0 :\n",
    "            print(f'Reward: {reward}')\n",
    "        total_reward += reward\n",
    "    print('Total Reward for episode {} is {}'.format(total_reward, episode))\n",
    "    time.sleep(2)\n",
    "env.close()"
   ]
  },
  {
   "cell_type": "code",
   "execution_count": 64,
   "id": "376263e5-c245-4617-a700-f7fd77e73f37",
   "metadata": {},
   "outputs": [],
   "source": [
    "env.close()"
   ]
  },
  {
   "cell_type": "code",
   "execution_count": null,
   "id": "2ed6564c-619d-4fb8-8723-0bb40138034e",
   "metadata": {},
   "outputs": [],
   "source": []
  },
  {
   "cell_type": "code",
   "execution_count": null,
   "id": "2699a1d5-7346-4598-9998-47b832c9943b",
   "metadata": {},
   "outputs": [],
   "source": []
  },
  {
   "cell_type": "code",
   "execution_count": null,
   "id": "877e2083-104b-4748-98c1-6b9025fc4296",
   "metadata": {},
   "outputs": [
    {
     "ename": "NameError",
     "evalue": "name 'A2C' is not defined",
     "output_type": "error",
     "traceback": [
      "\u001b[0;31m---------------------------------------------------------------------------\u001b[0m",
      "\u001b[0;31mNameError\u001b[0m                                 Traceback (most recent call last)",
      "Cell \u001b[0;32mIn [1], line 2\u001b[0m\n\u001b[1;32m      1\u001b[0m kCharacters  \u001b[38;5;241m=\u001b[39m [\u001b[38;5;124m'\u001b[39m\u001b[38;5;124mBalrog\u001b[39m\u001b[38;5;124m'\u001b[39m, \u001b[38;5;124m'\u001b[39m\u001b[38;5;124mBlanka\u001b[39m\u001b[38;5;124m'\u001b[39m, \u001b[38;5;124m'\u001b[39m\u001b[38;5;124mChunLi\u001b[39m\u001b[38;5;124m'\u001b[39m, \u001b[38;5;124m'\u001b[39m\u001b[38;5;124mDhalsim\u001b[39m\u001b[38;5;124m'\u001b[39m, \u001b[38;5;124m'\u001b[39m\u001b[38;5;124mEHonda\u001b[39m\u001b[38;5;124m'\u001b[39m, \u001b[38;5;124m'\u001b[39m\u001b[38;5;124mGuile\u001b[39m\u001b[38;5;124m'\u001b[39m, \u001b[38;5;124m'\u001b[39m\u001b[38;5;124mKen\u001b[39m\u001b[38;5;124m'\u001b[39m, \u001b[38;5;124m'\u001b[39m\u001b[38;5;124mMBison\u001b[39m\u001b[38;5;124m'\u001b[39m, \u001b[38;5;124m'\u001b[39m\u001b[38;5;124mRyu\u001b[39m\u001b[38;5;124m'\u001b[39m, \u001b[38;5;124m'\u001b[39m\u001b[38;5;124mSagat\u001b[39m\u001b[38;5;124m'\u001b[39m, \u001b[38;5;124m'\u001b[39m\u001b[38;5;124mVega\u001b[39m\u001b[38;5;124m'\u001b[39m, \u001b[38;5;124m'\u001b[39m\u001b[38;5;124mZangief\u001b[39m\u001b[38;5;124m'\u001b[39m ]\n\u001b[0;32m----> 2\u001b[0m model \u001b[38;5;241m=\u001b[39m \u001b[43mA2C\u001b[49m\u001b[38;5;241m.\u001b[39mload(\u001b[38;5;124m'\u001b[39m\u001b[38;5;124mRyu_A2C_CNN_1.zip\u001b[39m\u001b[38;5;124m'\u001b[39m)\n\u001b[1;32m      4\u001b[0m rounds \u001b[38;5;241m=\u001b[39m \u001b[38;5;241m100\u001b[39m\n\u001b[1;32m      5\u001b[0m total_win_count \u001b[38;5;241m=\u001b[39m \u001b[38;5;241m0\u001b[39m;\n",
      "\u001b[0;31mNameError\u001b[0m: name 'A2C' is not defined"
     ]
    }
   ],
   "source": [
    "kCharacters  = ['Balrog', 'Blanka', 'ChunLi', 'Dhalsim', 'EHonda', 'Guile', 'Ken', 'MBison', 'Ryu', 'Sagat', 'Vega', 'Zangief' ]\n",
    "model = A2C.load('Ryu_A2C_MLP_1.zip')\n",
    "\n",
    "rounds = 100\n",
    "total_win_count = 0;\n",
    "\n",
    "for opponent in kCharacters:\n",
    "    \n",
    "    state = f'L4_Ryu_{opponent}'\n",
    "    env = StreetFighter(state)\n",
    "    env = DummyVecEnv([lambda: env])\n",
    "    env = VecFrameStack(env, 4, channels_order='last')\n",
    "    \n",
    "    win_count = 0\n",
    "    \n",
    "    for i in range(rounds): \n",
    "        obs = env.reset()\n",
    "        done = False\n",
    "        \n",
    "        while not done: \n",
    "            action, _ = model.predict(obs)\n",
    "            obs, reward, done, info = env.step(action)\n",
    "            if done:\n",
    "                #print(info)\n",
    "                if info[0]['matches_won'] == 1:\n",
    "                    win_count += 1\n",
    "        win_rate = win_count / rounds * 100.0\n",
    "    print( f'Vs {opponent} {win_count} / {rounds} = {win_rate}%')\n",
    "    total_win_count += win_count\n",
    "    win_count = 0\n",
    "    env.close()\n",
    "    \n",
    "total_win_rate = total_win_count / ( rounds * len(kCharacters) )  * 100.0\n",
    "print( f'total_win_rate {total_win_rate}' )"
   ]
  },
  {
   "cell_type": "code",
   "execution_count": 91,
   "id": "9b7f02bd-8fe5-4109-84bc-680dc74d38ce",
   "metadata": {},
   "outputs": [],
   "source": [
    "env.close()"
   ]
  },
  {
   "cell_type": "code",
   "execution_count": null,
   "id": "465305ec-4d54-4d65-9fd3-6d907d798064",
   "metadata": {},
   "outputs": [
    {
     "data": {
      "text/plain": [
       "0"
      ]
     },
     "execution_count": 84,
     "metadata": {},
     "output_type": "execute_result"
    }
   ],
   "source": []
  },
  {
   "cell_type": "markdown",
   "id": "ead204dd-19c3-417d-9a01-e755aa8aaf32",
   "metadata": {},
   "source": [
    "Vs Balrog 53 / 100 = 53.0%\n",
    "Vs Blanka 68 / 100 = 68.0%\n",
    "Vs ChunLi 81 / 100 = 81.0%\n",
    "Vs Dhalsim 86 / 100 = 86.0%\n",
    "Vs EHonda 72 / 100 = 72.0%\n",
    "Vs Guile 63 / 100 = 63.0%\n",
    "Vs Ken 30 / 100 = 30.0%\n",
    "Vs MBison 33 / 100 = 33.0%\n",
    "Vs Ryu 22 / 100 = 22.0%\n",
    "Vs Sagat 7 / 100 = 7.000000000000001%\n",
    "Vs Vega 43 / 100 = 43.0%\n",
    "Vs Zangief 50 / 100 = 50.0%\n",
    "total_win_rate 50.66666666666667"
   ]
  }
 ],
 "metadata": {
  "kernelspec": {
   "display_name": "Python 3 (ipykernel)",
   "language": "python",
   "name": "python3"
  },
  "language_info": {
   "codemirror_mode": {
    "name": "ipython",
    "version": 3
   },
   "file_extension": ".py",
   "mimetype": "text/x-python",
   "name": "python",
   "nbconvert_exporter": "python",
   "pygments_lexer": "ipython3",
   "version": "3.8.10"
  }
 },
 "nbformat": 4,
 "nbformat_minor": 5
}
