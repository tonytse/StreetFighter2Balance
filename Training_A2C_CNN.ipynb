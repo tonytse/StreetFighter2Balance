{
 "cells": [
  {
   "cell_type": "code",
   "execution_count": 1,
   "id": "29290100-5ae8-40b2-ae89-4c1bf111329f",
   "metadata": {},
   "outputs": [],
   "source": [
    "#import package\n",
    "import retro\n",
    "import numpy as np\n",
    "import cv2\n",
    "import os\n",
    "import time\n",
    "\n",
    "#gym\n",
    "import gym\n",
    "from gym import Env\n",
    "from gym.spaces import MultiBinary, Box\n",
    "\n",
    "# stable baseline\n",
    "from stable_baselines3 import A2C\n",
    "from stable_baselines3 import PPO\n",
    "from stable_baselines3.common.evaluation import evaluate_policy\n",
    "from stable_baselines3.common.vec_env import DummyVecEnv, VecFrameStack\n",
    "from stable_baselines3.common.monitor import Monitor"
   ]
  },
  {
   "cell_type": "code",
   "execution_count": 2,
   "id": "16605d3d-7f70-4814-a527-a2f8935bb8de",
   "metadata": {},
   "outputs": [],
   "source": [
    "kModelName = 'model/Ryu'\n",
    "kLogDir = './logs_TRPO_CNNvsMPL/logs_TRPO_CNN_OP'"
   ]
  },
  {
   "cell_type": "code",
   "execution_count": 3,
   "id": "ea392630-33e8-4844-8f90-1ad795004039",
   "metadata": {},
   "outputs": [
    {
     "name": "stdout",
     "output_type": "stream",
     "text": [
      "Imported 0 games\n"
     ]
    }
   ],
   "source": [
    "!python3 -m retro.import ./roms # Run this from the roms folder, or where you have your game roms "
   ]
  },
  {
   "cell_type": "code",
   "execution_count": null,
   "id": "f42e0cb4-d770-4493-8a72-40e879243f87",
   "metadata": {},
   "outputs": [],
   "source": []
  },
  {
   "cell_type": "code",
   "execution_count": 4,
   "id": "f03edb27-ea8c-41da-8444-fef7ec7bc8d4",
   "metadata": {},
   "outputs": [],
   "source": [
    "#class for StreetFighter environment\n",
    "class StreetFighter(Env):\n",
    "    def __init__(self, state):\n",
    "        super().__init__()\n",
    "        \n",
    "        self.observation_space = Box(low=0, high=255, shape=(100,100,1), dtype=np.uint8)\n",
    "        self.action_space = MultiBinary(12)\n",
    "        self.game = retro.make(game='StreetFighterIISpecialChampionEdition-Genesis', use_restricted_actions=retro.Actions.FILTERED, state=state)\n",
    "                    \n",
    "    def step(self, action):\n",
    "        obs, reward, done, info = self.game.step(action)\n",
    "        obs = self.preprocess(obs)\n",
    "\n",
    "        reward = 0\n",
    "        \n",
    "        if self.combo_count > 0:\n",
    "            self.combo_count -= 0.02\n",
    "\n",
    "        if self.enemy_combo_count > 0:\n",
    "            self.enemy_combo_count -= 0.02        \n",
    "        \n",
    "        # reward using health\n",
    "        # reward = (self.enemy_health - info['enemy_health'])*2 + (info['health'] - self.health)\n",
    "        if done:\n",
    "            \n",
    "            if info['matches_won'] == 1:\n",
    "                reward += 50\n",
    "            elif info['enemy_matches_won'] == 1:\n",
    "                reward -= 50\n",
    "            \n",
    "        else:\n",
    "            enemy_damage = self.enemy_health - info['enemy_health']\n",
    "            damage = self.health - info['health']\n",
    "            \n",
    "            if enemy_damage > 0 and damage > 0: \n",
    "                # double hit\n",
    "                reward += enemy_damage - damage\n",
    "            elif enemy_damage > 0:\n",
    "                reward += enemy_damage + self.combo_count * 8\n",
    "                self.combo_count += 1\n",
    "                self.enemy_combo_count = 0\n",
    "            elif damage > 0: \n",
    "                reward -= damage + self.enemy_combo_count * 8\n",
    "                self.enemy_combo_count += 1\n",
    "                self.combo_count = 0\n",
    "            \n",
    "        self.health = info['health']\n",
    "        self.enemy_health = info['enemy_health']\n",
    "        \n",
    "        return obs, reward, done, info\n",
    "\n",
    "    def render(self, *args, **kwargs): \n",
    "        self.game.render()\n",
    "\n",
    "\n",
    "    def reset(self):\n",
    "        self.previous_frame = np.zeros(self.game.observation_space.shape)\n",
    "\n",
    "        # Frame delta\n",
    "        obs = self.game.reset()\n",
    "        obs = self.preprocess(obs)\n",
    "        self.previous_frame = obs\n",
    "\n",
    "        # Initial variables\n",
    "        self.health = 176\n",
    "        self.enemy_health = 176\n",
    "        self.combo_count = 0\n",
    "        self.enemy_combo_count = 0\n",
    "        return obs\n",
    "\n",
    "    def preprocess(self, observation): \n",
    "        # process the input image\n",
    "        gray = cv2.cvtColor(observation, cv2.COLOR_BGR2GRAY)\n",
    "        resize = cv2.resize(gray, (100,100), interpolation=cv2.INTER_AREA)\n",
    "        state = np.reshape(resize, (100,100, 1))\n",
    "        return state\n",
    "\n",
    "    def close(self): \n",
    "        self.game.close()"
   ]
  },
  {
   "cell_type": "code",
   "execution_count": 11,
   "id": "39e28399-85b3-4184-ab81-e1ef07aab1d6",
   "metadata": {},
   "outputs": [
    {
     "name": "stderr",
     "output_type": "stream",
     "text": [
      "2023-01-29 19:11:49.821677: I tensorflow/core/platform/cpu_feature_guard.cc:182] This TensorFlow binary is optimized with oneAPI Deep Neural Network Library (oneDNN) to use the following CPU instructions in performance-critical operations:  AVX2 AVX_VNNI FMA\n",
      "To enable them in other operations, rebuild TensorFlow with the appropriate compiler flags.\n",
      "2023-01-29 19:11:49.946181: I tensorflow/core/util/port.cc:110] oneDNN custom operations are on. You may see slightly different numerical results due to floating-point round-off errors from different computation orders. To turn them off, set the environment variable `TF_ENABLE_ONEDNN_OPTS=0`.\n",
      "2023-01-29 19:11:49.965167: E tensorflow/tsl/lib/monitoring/collection_registry.cc:81] Cannot register 2 metrics with the same name: /tensorflow/core/bfc_allocator_delay\n"
     ]
    }
   ],
   "source": [
    "kCharacters  = ['Balrog', 'Blanka', 'ChunLi', 'Dhalsim', 'EHonda', 'Guile', 'Ken', 'MBison', 'Ryu', 'Sagat', 'Vega', 'Zangief' ]\n",
    "\n",
    "model = None\n",
    "i = 0\n",
    "for opponent in kCharacters:\n",
    "    state = f'L4_Ryu_{opponent}'\n",
    "    \n",
    "    env = StreetFighter(state)\n",
    "    env = Monitor(env, kLogDir)\n",
    "    env = DummyVecEnv([lambda: env])\n",
    "    env = VecFrameStack(env, 4, channels_order='last')\n",
    "\n",
    "    #model = PPO('CnnPolicy', env, tensorboard_log=kLogDir, verbose=1 )\n",
    "    #model.learn(total_timesteps=50000)\n",
    "    #model = A2C('CnnPolicy', \"CartPole-v1\", env, n_steps=2048, device = 'cuda', tensorboard_log=kLogDir, verbose=1)\n",
    "    #model.learn(total_timesteps=50000,tb_log_name=\"first_run\" )\n",
    "    \n",
    "    if model is None:\n",
    "        model = A2C(\"CnnPolicy\", env, verbose=0, tensorboard_log=kLogDir )\n",
    "        \n",
    "    model.set_env(env) \n",
    "    model.learn(total_timesteps=20_000)\n",
    "    model.save( f'{kModelName}_{i}.zip')\n",
    "    i=i+1\n",
    "    \n",
    "    #env = VecFrameStack(env, 4, channels_order='last')    \n",
    "    #env = DummyVecEnv([lambda: env])\n",
    "    #model.set_env(env)\n",
    "\n",
    "    #model.learn(total_timesteps=50000, tb_log_name=\"second_run\")\n",
    "    #model.save( f'{kModelName}_{i}.zip')\n",
    "    #i=i+1\n",
    "    \"\"\"\n",
    "    model.learn(total_timesteps=100000)\n",
    "    model.save( f'{kModelName}_{i}.zip')\n",
    "    i=i+1\n",
    "    model.learn(total_timesteps=100000)\n",
    "    model.save( f'{kModelName}_{i}.zip')\n",
    "    i=i+1\n",
    "    model.learn(total_timesteps=100000)\n",
    "    model.save( f'{kModelName}_{i}.zip')\n",
    "    i=i+1\n",
    "    \"\"\"\n",
    "    env.close()\n"
   ]
  },
  {
   "cell_type": "code",
   "execution_count": 67,
   "id": "e82d1594-b0ba-4153-88fe-d3121eda213a",
   "metadata": {},
   "outputs": [],
   "source": [
    "env.close()"
   ]
  },
  {
   "cell_type": "code",
   "execution_count": null,
   "id": "0b93a7c5-e4d3-45ff-b778-6c8e0b300091",
   "metadata": {},
   "outputs": [],
   "source": []
  },
  {
   "cell_type": "code",
   "execution_count": 7,
   "id": "1ae6fef0-8549-4cbb-914f-24715e257206",
   "metadata": {},
   "outputs": [
    {
     "name": "stdout",
     "output_type": "stream",
     "text": [
      "Reward: [-32.]\n",
      "Reward: [28.]\n",
      "Reward: [28.]\n",
      "Reward: [19.]\n",
      "Reward: [35.]\n",
      "Reward: [-33.]\n",
      "Reward: [-26.]\n",
      "Reward: [-15.]\n",
      "Reward: [18.]\n",
      "Reward: [-32.]\n",
      "Reward: [-40.68]\n",
      "Reward: [47.]\n",
      "Reward: [-2.]\n",
      "Reward: [-50.]\n",
      "Total Reward for episode [-55.68] is 0\n"
     ]
    }
   ],
   "source": [
    "env = StreetFighter('L4_Ryu_Guile')\n",
    "env = DummyVecEnv([lambda: env])\n",
    "env = VecFrameStack(env, 4, channels_order='last')\n",
    "model = A2C.load('Ryu_A2C_CNN_1.zip')\n",
    "model.set_env(env)\n",
    "for episode in range(1): \n",
    "    obs = env.reset()\n",
    "    done = False\n",
    "    total_reward = 0\n",
    "    while not done: \n",
    "        action, _ = model.predict(obs)\n",
    "        obs, reward, done, info = env.step(action)\n",
    "        env.render()\n",
    "        time.sleep(0.001)\n",
    "        if reward != 0 :\n",
    "            print(f'Reward: {reward}')\n",
    "        total_reward += reward\n",
    "    print('Total Reward for episode {} is {}'.format(total_reward, episode))\n",
    "    time.sleep(2)\n",
    "env.close()"
   ]
  },
  {
   "cell_type": "code",
   "execution_count": 6,
   "id": "376263e5-c245-4617-a700-f7fd77e73f37",
   "metadata": {},
   "outputs": [],
   "source": [
    "env.close()"
   ]
  },
  {
   "cell_type": "code",
   "execution_count": null,
   "id": "2ed6564c-619d-4fb8-8723-0bb40138034e",
   "metadata": {},
   "outputs": [],
   "source": []
  },
  {
   "cell_type": "code",
   "execution_count": null,
   "id": "2699a1d5-7346-4598-9998-47b832c9943b",
   "metadata": {},
   "outputs": [],
   "source": []
  },
  {
   "cell_type": "code",
   "execution_count": 8,
   "id": "877e2083-104b-4748-98c1-6b9025fc4296",
   "metadata": {},
   "outputs": [
    {
     "name": "stdout",
     "output_type": "stream",
     "text": [
      "Vs Balrog 18 / 100 = 18.0%\n",
      "Vs Blanka 44 / 100 = 44.0%\n",
      "Vs ChunLi 48 / 100 = 48.0%\n",
      "Vs Dhalsim 71 / 100 = 71.0%\n",
      "Vs EHonda 33 / 100 = 33.0%\n",
      "Vs Guile 28 / 100 = 28.000000000000004%\n",
      "Vs Ken 5 / 100 = 5.0%\n",
      "Vs MBison 11 / 100 = 11.0%\n",
      "Vs Ryu 8 / 100 = 8.0%\n",
      "Vs Sagat 0 / 100 = 0.0%\n",
      "Vs Vega 18 / 100 = 18.0%\n",
      "Vs Zangief 24 / 100 = 24.0%\n",
      "total_win_rate 25.666666666666664\n"
     ]
    }
   ],
   "source": [
    "kCharacters  = ['Balrog', 'Blanka', 'ChunLi', 'Dhalsim', 'EHonda', 'Guile', 'Ken', 'MBison', 'Ryu', 'Sagat', 'Vega', 'Zangief' ]\n",
    "model = A2C.load('Ryu_A2C_CNN_1.zip')\n",
    "\n",
    "rounds = 100\n",
    "total_win_count = 0;\n",
    "\n",
    "for opponent in kCharacters:\n",
    "    \n",
    "    state = f'L4_Ryu_{opponent}'\n",
    "    env = StreetFighter(state)\n",
    "    env = DummyVecEnv([lambda: env])\n",
    "    env = VecFrameStack(env, 4, channels_order='last')\n",
    "    \n",
    "    win_count = 0\n",
    "    \n",
    "    for i in range(rounds): \n",
    "        obs = env.reset()\n",
    "        done = False\n",
    "        \n",
    "        while not done: \n",
    "            action, _ = model.predict(obs)\n",
    "            obs, reward, done, info = env.step(action)\n",
    "            if done:\n",
    "                #print(info)\n",
    "                if info[0]['matches_won'] == 1:\n",
    "                    win_count += 1\n",
    "        win_rate = win_count / rounds * 100.0\n",
    "    print( f'Vs {opponent} {win_count} / {rounds} = {win_rate}%')\n",
    "    total_win_count += win_count\n",
    "    win_count = 0\n",
    "    env.close()\n",
    "    \n",
    "total_win_rate = total_win_count / ( rounds * len(kCharacters) )  * 100.0\n",
    "print( f'total_win_rate {total_win_rate}' )"
   ]
  },
  {
   "cell_type": "code",
   "execution_count": 91,
   "id": "9b7f02bd-8fe5-4109-84bc-680dc74d38ce",
   "metadata": {},
   "outputs": [],
   "source": [
    "env.close()"
   ]
  },
  {
   "cell_type": "code",
   "execution_count": 84,
   "id": "465305ec-4d54-4d65-9fd3-6d907d798064",
   "metadata": {},
   "outputs": [
    {
     "data": {
      "text/plain": [
       "0"
      ]
     },
     "execution_count": 84,
     "metadata": {},
     "output_type": "execute_result"
    }
   ],
   "source": [
    "info[0]['matches_won']"
   ]
  },
  {
   "cell_type": "code",
   "execution_count": null,
   "id": "243210c4-8ee0-4c2b-a760-6694184f7279",
   "metadata": {},
   "outputs": [],
   "source": []
  }
 ],
 "metadata": {
  "kernelspec": {
   "display_name": "Python 3 (ipykernel)",
   "language": "python",
   "name": "python3"
  },
  "language_info": {
   "codemirror_mode": {
    "name": "ipython",
    "version": 3
   },
   "file_extension": ".py",
   "mimetype": "text/x-python",
   "name": "python",
   "nbconvert_exporter": "python",
   "pygments_lexer": "ipython3",
   "version": "3.8.10"
  }
 },
 "nbformat": 4,
 "nbformat_minor": 5
}
